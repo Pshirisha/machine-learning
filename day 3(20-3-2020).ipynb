{
 "cells": [
  {
   "cell_type": "markdown",
   "metadata": {},
   "source": [
    "Numpy\n",
    "- convert a list,tuple,dict into array\n",
    "- how to generate array with in a range of values\n",
    "    - arange\n",
    "    - linspace\n",
    "    - random .randint\n",
    "- basic arthimetic operators on numpy array"
   ]
  },
  {
   "cell_type": "code",
   "execution_count": 83,
   "metadata": {},
   "outputs": [
    {
     "data": {
      "text/plain": [
       "array([0, 1, 2, 3, 4, 5, 6, 7, 8, 9])"
      ]
     },
     "execution_count": 83,
     "metadata": {},
     "output_type": "execute_result"
    }
   ],
   "source": [
    "import numpy as np\n",
    "a = np.arange(10)\n",
    "a"
   ]
  },
  {
   "cell_type": "code",
   "execution_count": 84,
   "metadata": {},
   "outputs": [
    {
     "name": "stdout",
     "output_type": "stream",
     "text": [
      "[1 2 3 4 5 6 7 8 9]\n",
      "[1 3 5 7 9]\n"
     ]
    }
   ],
   "source": [
    "#how to slicing\n",
    "print(a[1:10])\n",
    "print(a[1:10:2])"
   ]
  },
  {
   "cell_type": "code",
   "execution_count": 85,
   "metadata": {},
   "outputs": [
    {
     "data": {
      "text/plain": [
       "array([False, False, False, False, False, False,  True,  True,  True,\n",
       "        True])"
      ]
     },
     "execution_count": 85,
     "metadata": {},
     "output_type": "execute_result"
    }
   ],
   "source": [
    "a>5"
   ]
  },
  {
   "cell_type": "code",
   "execution_count": 86,
   "metadata": {},
   "outputs": [
    {
     "name": "stdout",
     "output_type": "stream",
     "text": [
      "[6 7 8 9]\n"
     ]
    }
   ],
   "source": [
    "#fancy indexing or boolean indexing:\n",
    "# we will get the values for which it is true\n",
    "\n",
    "print(a[a>5])"
   ]
  },
  {
   "cell_type": "code",
   "execution_count": 87,
   "metadata": {},
   "outputs": [
    {
     "data": {
      "text/plain": [
       "(10,)"
      ]
     },
     "execution_count": 87,
     "metadata": {},
     "output_type": "execute_result"
    }
   ],
   "source": [
    "# to check the shape of an array:\n",
    "a.shape"
   ]
  },
  {
   "cell_type": "code",
   "execution_count": 88,
   "metadata": {},
   "outputs": [
    {
     "data": {
      "text/plain": [
       "1"
      ]
     },
     "execution_count": 88,
     "metadata": {},
     "output_type": "execute_result"
    }
   ],
   "source": [
    "# to check the dimensional of an array:\n",
    "\n",
    "a.ndim"
   ]
  },
  {
   "cell_type": "code",
   "execution_count": 89,
   "metadata": {},
   "outputs": [
    {
     "data": {
      "text/plain": [
       "array([[23, 11, 17, 15],\n",
       "       [24, 21, 25, 27],\n",
       "       [16, 24, 17, 20]])"
      ]
     },
     "execution_count": 89,
     "metadata": {},
     "output_type": "execute_result"
    }
   ],
   "source": [
    "# to create a two dimensional array:\n",
    "# 10,30 is the range and 3,4 is rows and columns:\n",
    "\n",
    "a2 = np.random.randint(10,30,(3,4))\n",
    "a2"
   ]
  },
  {
   "cell_type": "code",
   "execution_count": 90,
   "metadata": {},
   "outputs": [
    {
     "data": {
      "text/plain": [
       "2"
      ]
     },
     "execution_count": 90,
     "metadata": {},
     "output_type": "execute_result"
    }
   ],
   "source": [
    "a2.ndim"
   ]
  },
  {
   "cell_type": "code",
   "execution_count": 91,
   "metadata": {},
   "outputs": [
    {
     "name": "stdout",
     "output_type": "stream",
     "text": [
      "[23 11 17 15]\n"
     ]
    }
   ],
   "source": [
    "#it will print row  wise:\n",
    "\n",
    "for i in a2:\n",
    "    print(i)\n",
    "    break"
   ]
  },
  {
   "cell_type": "code",
   "execution_count": 92,
   "metadata": {},
   "outputs": [
    {
     "name": "stdout",
     "output_type": "stream",
     "text": [
      "23,11,17,15,\n",
      "24,21,25,27,\n",
      "16,24,17,20,\n"
     ]
    }
   ],
   "source": [
    "# to acess element wise :\n",
    "\n",
    "for i in a2:\n",
    "    for j in i:\n",
    "        print(j,end=\",\")\n",
    "    print()"
   ]
  },
  {
   "cell_type": "code",
   "execution_count": 93,
   "metadata": {},
   "outputs": [
    {
     "name": "stdout",
     "output_type": "stream",
     "text": [
      "[24 21 25 27] <class 'numpy.ndarray'> (4,)\n"
     ]
    }
   ],
   "source": [
    "#slicing for an array:\n",
    "\n",
    "print(a2[1],type(a2[1]),a2[1].shape)"
   ]
  },
  {
   "cell_type": "code",
   "execution_count": 94,
   "metadata": {},
   "outputs": [
    {
     "name": "stdout",
     "output_type": "stream",
     "text": [
      "[[24 21 25 27]\n",
      " [16 24 17 20]] <class 'numpy.ndarray'>\n"
     ]
    }
   ],
   "source": [
    "# slicing from 2 column:\n",
    "\n",
    "print(a2[1:],type(a2[1:]))"
   ]
  },
  {
   "cell_type": "code",
   "execution_count": 95,
   "metadata": {},
   "outputs": [
    {
     "data": {
      "text/plain": [
       "array([[23, 11, 17, 15],\n",
       "       [24, 21, 25, 27],\n",
       "       [16, 24, 17, 20]])"
      ]
     },
     "execution_count": 95,
     "metadata": {},
     "output_type": "execute_result"
    }
   ],
   "source": [
    "a2"
   ]
  },
  {
   "cell_type": "code",
   "execution_count": 96,
   "metadata": {},
   "outputs": [
    {
     "name": "stdout",
     "output_type": "stream",
     "text": [
      "25\n"
     ]
    }
   ],
   "source": [
    "# rows from 0 to 2\n",
    "# columns from 0 to 2\n",
    "# 1st row and second column\n",
    "print(a2[1][2]) #  or print(a2[1,2])"
   ]
  },
  {
   "cell_type": "code",
   "execution_count": 97,
   "metadata": {},
   "outputs": [
    {
     "name": "stdout",
     "output_type": "stream",
     "text": [
      "[[24 21 25 27]\n",
      " [16 24 17 20]]\n"
     ]
    }
   ],
   "source": [
    "print(a2[1:3])"
   ]
  },
  {
   "cell_type": "code",
   "execution_count": null,
   "metadata": {},
   "outputs": [],
   "source": []
  },
  {
   "cell_type": "code",
   "execution_count": 98,
   "metadata": {},
   "outputs": [
    {
     "name": "stdout",
     "output_type": "stream",
     "text": [
      "[[23 11 17 15]\n",
      " [24 21 25 27]\n",
      " [16 24 17 20]]\n"
     ]
    }
   ],
   "source": [
    "print(a2[0::1])"
   ]
  },
  {
   "cell_type": "code",
   "execution_count": 99,
   "metadata": {},
   "outputs": [
    {
     "data": {
      "text/plain": [
       "array([[[49, 90, 73],\n",
       "        [12, 24, 18],\n",
       "        [12, 74, 19],\n",
       "        [49, 84, 97],\n",
       "        [38, 41, 17]],\n",
       "\n",
       "       [[82, 12, 35],\n",
       "        [68, 76, 40],\n",
       "        [10, 33, 29],\n",
       "        [33, 12, 50],\n",
       "        [43, 46, 94]],\n",
       "\n",
       "       [[63, 77, 14],\n",
       "        [81, 98, 31],\n",
       "        [92, 70, 73],\n",
       "        [53, 14, 58],\n",
       "        [24, 58, 48]],\n",
       "\n",
       "       [[35, 99, 57],\n",
       "        [74, 79, 17],\n",
       "        [73, 14, 84],\n",
       "        [99, 69, 22],\n",
       "        [52, 59, 62]],\n",
       "\n",
       "       [[25, 50, 62],\n",
       "        [93, 92, 68],\n",
       "        [60, 70, 99],\n",
       "        [23, 35, 28],\n",
       "        [18, 96, 52]]])"
      ]
     },
     "execution_count": 99,
     "metadata": {},
     "output_type": "execute_result"
    }
   ],
   "source": [
    "a3 = np.random.randint(10,100,(5,5,3))\n",
    "a3"
   ]
  },
  {
   "cell_type": "code",
   "execution_count": 100,
   "metadata": {},
   "outputs": [
    {
     "name": "stdout",
     "output_type": "stream",
     "text": [
      "[[[49 90 73]\n",
      "  [12 24 18]\n",
      "  [12 74 19]\n",
      "  [49 84 97]\n",
      "  [38 41 17]]\n",
      "\n",
      " [[82 12 35]\n",
      "  [68 76 40]\n",
      "  [10 33 29]\n",
      "  [33 12 50]\n",
      "  [43 46 94]]]\n"
     ]
    }
   ],
   "source": [
    "print(a3[:2]) # indices -0-1"
   ]
  },
  {
   "cell_type": "code",
   "execution_count": 101,
   "metadata": {},
   "outputs": [
    {
     "name": "stdout",
     "output_type": "stream",
     "text": [
      "[[[82 12 35]\n",
      "  [68 76 40]\n",
      "  [10 33 29]\n",
      "  [33 12 50]\n",
      "  [43 46 94]]\n",
      "\n",
      " [[35 99 57]\n",
      "  [74 79 17]\n",
      "  [73 14 84]\n",
      "  [99 69 22]\n",
      "  [52 59 62]]]\n"
     ]
    }
   ],
   "source": [
    "print(a3[1::2])"
   ]
  },
  {
   "cell_type": "code",
   "execution_count": 102,
   "metadata": {},
   "outputs": [
    {
     "name": "stdout",
     "output_type": "stream",
     "text": [
      "[[[49 90 73]\n",
      "  [12 24 18]\n",
      "  [12 74 19]\n",
      "  [49 84 97]\n",
      "  [38 41 17]]\n",
      "\n",
      " [[82 12 35]\n",
      "  [68 76 40]\n",
      "  [10 33 29]\n",
      "  [33 12 50]\n",
      "  [43 46 94]]\n",
      "\n",
      " [[63 77 14]\n",
      "  [81 98 31]\n",
      "  [92 70 73]\n",
      "  [53 14 58]\n",
      "  [24 58 48]]\n",
      "\n",
      " [[35 99 57]\n",
      "  [74 79 17]\n",
      "  [73 14 84]\n",
      "  [99 69 22]\n",
      "  [52 59 62]]\n",
      "\n",
      " [[25 50 62]\n",
      "  [93 92 68]\n",
      "  [60 70 99]\n",
      "  [23 35 28]\n",
      "  [18 96 52]]]\n"
     ]
    }
   ],
   "source": [
    "print(a3)"
   ]
  },
  {
   "cell_type": "code",
   "execution_count": 103,
   "metadata": {},
   "outputs": [
    {
     "name": "stdout",
     "output_type": "stream",
     "text": [
      "[[[82 12 35]\n",
      "  [10 33 29]\n",
      "  [43 46 94]]\n",
      "\n",
      " [[35 99 57]\n",
      "  [73 14 84]\n",
      "  [52 59 62]]]\n"
     ]
    }
   ],
   "source": [
    "print(a3[1::2,0:5:2])"
   ]
  },
  {
   "cell_type": "code",
   "execution_count": 104,
   "metadata": {},
   "outputs": [
    {
     "data": {
      "text/plain": [
       "array([], dtype=int32)"
      ]
     },
     "execution_count": 104,
     "metadata": {},
     "output_type": "execute_result"
    }
   ],
   "source": [
    "# boolean indexing:\n",
    "a3[a3==80]"
   ]
  },
  {
   "cell_type": "code",
   "execution_count": 105,
   "metadata": {},
   "outputs": [
    {
     "data": {
      "text/plain": [
       "array([90, 73, 74, 84, 97, 82, 68, 76, 94, 63, 77, 81, 98, 92, 70, 73, 53,\n",
       "       58, 58, 99, 57, 74, 79, 73, 84, 99, 69, 52, 59, 62, 62, 93, 92, 68,\n",
       "       60, 70, 99, 96, 52])"
      ]
     },
     "execution_count": 105,
     "metadata": {},
     "output_type": "execute_result"
    }
   ],
   "source": [
    "a3[a3>50]"
   ]
  },
  {
   "cell_type": "code",
   "execution_count": 106,
   "metadata": {},
   "outputs": [
    {
     "data": {
      "text/plain": [
       "array([68, 63, 53, 58, 58, 57, 69, 52, 59, 62, 62, 68, 60, 52])"
      ]
     },
     "execution_count": 106,
     "metadata": {},
     "output_type": "execute_result"
    }
   ],
   "source": [
    "a3[(a3>50) & (a3<70)]"
   ]
  },
  {
   "cell_type": "code",
   "execution_count": 107,
   "metadata": {},
   "outputs": [
    {
     "data": {
      "text/plain": [
       "array([49, 90, 73, 12, 24, 18, 12, 74, 19, 49, 84, 97, 38, 41, 17, 82, 12,\n",
       "       35, 68, 76, 40, 10, 33, 29, 33, 12, 50, 43, 46, 94, 63, 77, 14, 81,\n",
       "       98, 31, 92, 70, 73, 53, 14, 58, 24, 58, 48, 35, 99, 57, 74, 79, 17,\n",
       "       73, 14, 84, 99, 69, 22, 52, 59, 62, 25, 50, 62, 93, 92, 68, 60, 70,\n",
       "       99, 23, 35, 28, 18, 96, 52])"
      ]
     },
     "execution_count": 107,
     "metadata": {},
     "output_type": "execute_result"
    }
   ],
   "source": [
    "a3[(a3>50)| (a3<70)]"
   ]
  },
  {
   "cell_type": "code",
   "execution_count": 108,
   "metadata": {},
   "outputs": [
    {
     "name": "stdout",
     "output_type": "stream",
     "text": [
      "[0, 1, 2, 3, 4, 5, 6, 7, 8, 9]\n",
      "[1, 2, 3, 4, 5, 6, 7, 8, 9]\n",
      "[1, 3, 5, 7, 9]\n"
     ]
    }
   ],
   "source": [
    "l=list(range(10))\n",
    "print(l[:])\n",
    "print(l[1:])\n",
    "print(l[1::2])\n"
   ]
  },
  {
   "cell_type": "code",
   "execution_count": 109,
   "metadata": {},
   "outputs": [
    {
     "ename": "TypeError",
     "evalue": "list indices must be integers or slices, not list",
     "output_type": "error",
     "traceback": [
      "\u001b[1;31m---------------------------------------------------------------------------\u001b[0m",
      "\u001b[1;31mTypeError\u001b[0m                                 Traceback (most recent call last)",
      "\u001b[1;32m<ipython-input-109-ebc4759415af>\u001b[0m in \u001b[0;36m<module>\u001b[1;34m\u001b[0m\n\u001b[1;32m----> 1\u001b[1;33m \u001b[0ml\u001b[0m\u001b[1;33m[\u001b[0m\u001b[1;33m[\u001b[0m\u001b[1;36m1\u001b[0m\u001b[1;33m,\u001b[0m\u001b[1;36m13\u001b[0m\u001b[1;33m,\u001b[0m\u001b[1;36m45\u001b[0m\u001b[1;33m,\u001b[0m\u001b[1;36m74\u001b[0m\u001b[1;33m,\u001b[0m\u001b[1;36m23\u001b[0m\u001b[1;33m,\u001b[0m\u001b[1;36m67\u001b[0m\u001b[1;33m]\u001b[0m\u001b[1;33m]\u001b[0m\u001b[1;33m\u001b[0m\u001b[1;33m\u001b[0m\u001b[0m\n\u001b[0m",
      "\u001b[1;31mTypeError\u001b[0m: list indices must be integers or slices, not list"
     ]
    }
   ],
   "source": [
    "l[[1,13,45,74,23,67]]"
   ]
  },
  {
   "cell_type": "code",
   "execution_count": 110,
   "metadata": {},
   "outputs": [
    {
     "ename": "IndexError",
     "evalue": "index 13 is out of bounds for axis 0 with size 10",
     "output_type": "error",
     "traceback": [
      "\u001b[1;31m---------------------------------------------------------------------------\u001b[0m",
      "\u001b[1;31mIndexError\u001b[0m                                Traceback (most recent call last)",
      "\u001b[1;32m<ipython-input-110-1206ccb18bed>\u001b[0m in \u001b[0;36m<module>\u001b[1;34m\u001b[0m\n\u001b[0;32m      1\u001b[0m \u001b[0mal\u001b[0m\u001b[1;33m=\u001b[0m\u001b[0mnp\u001b[0m\u001b[1;33m.\u001b[0m\u001b[0marray\u001b[0m\u001b[1;33m(\u001b[0m\u001b[0ml\u001b[0m\u001b[1;33m)\u001b[0m\u001b[1;33m\u001b[0m\u001b[1;33m\u001b[0m\u001b[0m\n\u001b[1;32m----> 2\u001b[1;33m \u001b[0mal\u001b[0m\u001b[1;33m[\u001b[0m\u001b[1;33m[\u001b[0m\u001b[1;36m1\u001b[0m\u001b[1;33m,\u001b[0m\u001b[1;36m13\u001b[0m\u001b[1;33m,\u001b[0m\u001b[1;36m45\u001b[0m\u001b[1;33m,\u001b[0m\u001b[1;36m74\u001b[0m\u001b[1;33m,\u001b[0m\u001b[1;36m23\u001b[0m\u001b[1;33m,\u001b[0m\u001b[1;36m67\u001b[0m\u001b[1;33m]\u001b[0m\u001b[1;33m]\u001b[0m\u001b[1;33m\u001b[0m\u001b[1;33m\u001b[0m\u001b[0m\n\u001b[0m",
      "\u001b[1;31mIndexError\u001b[0m: index 13 is out of bounds for axis 0 with size 10"
     ]
    }
   ],
   "source": [
    "al=np.array(l)\n",
    "al[[1,13,45,74,23,67]]"
   ]
  },
  {
   "cell_type": "code",
   "execution_count": 111,
   "metadata": {},
   "outputs": [
    {
     "data": {
      "text/plain": [
       "array([[23, 11, 17, 15],\n",
       "       [24, 21, 25, 27],\n",
       "       [16, 24, 17, 20]])"
      ]
     },
     "execution_count": 111,
     "metadata": {},
     "output_type": "execute_result"
    }
   ],
   "source": [
    "a2"
   ]
  },
  {
   "cell_type": "code",
   "execution_count": 112,
   "metadata": {},
   "outputs": [
    {
     "data": {
      "text/plain": [
       "array([24, 24])"
      ]
     },
     "execution_count": 112,
     "metadata": {},
     "output_type": "execute_result"
    }
   ],
   "source": [
    "a2[[1,2],[0,1]]\n"
   ]
  },
  {
   "cell_type": "code",
   "execution_count": 113,
   "metadata": {},
   "outputs": [
    {
     "data": {
      "text/plain": [
       "array([[[49, 90, 73],\n",
       "        [12, 24, 18],\n",
       "        [12, 74, 19],\n",
       "        [49, 84, 97],\n",
       "        [38, 41, 17]],\n",
       "\n",
       "       [[82, 12, 35],\n",
       "        [68, 76, 40],\n",
       "        [10, 33, 29],\n",
       "        [33, 12, 50],\n",
       "        [43, 46, 94]],\n",
       "\n",
       "       [[63, 77, 14],\n",
       "        [81, 98, 31],\n",
       "        [92, 70, 73],\n",
       "        [53, 14, 58],\n",
       "        [24, 58, 48]],\n",
       "\n",
       "       [[35, 99, 57],\n",
       "        [74, 79, 17],\n",
       "        [73, 14, 84],\n",
       "        [99, 69, 22],\n",
       "        [52, 59, 62]],\n",
       "\n",
       "       [[25, 50, 62],\n",
       "        [93, 92, 68],\n",
       "        [60, 70, 99],\n",
       "        [23, 35, 28],\n",
       "        [18, 96, 52]]])"
      ]
     },
     "execution_count": 113,
     "metadata": {},
     "output_type": "execute_result"
    }
   ],
   "source": [
    "a3"
   ]
  },
  {
   "cell_type": "code",
   "execution_count": 114,
   "metadata": {},
   "outputs": [
    {
     "name": "stdout",
     "output_type": "stream",
     "text": [
      "[76 73]\n",
      "76\n",
      "73\n"
     ]
    }
   ],
   "source": [
    "print(a3[[1,2],[1,2],[1,2]])\n",
    "print(a3[1,1,1])\n",
    "print(a3[2,2,2])"
   ]
  },
  {
   "cell_type": "code",
   "execution_count": 115,
   "metadata": {},
   "outputs": [],
   "source": [
    "#statistical Functions:\n"
   ]
  },
  {
   "cell_type": "code",
   "execution_count": 124,
   "metadata": {},
   "outputs": [
    {
     "data": {
      "text/plain": [
       "array([23, 27, 25, 28, 28])"
      ]
     },
     "execution_count": 124,
     "metadata": {},
     "output_type": "execute_result"
    }
   ],
   "source": [
    "a=np.random.randint(20,30,5)\n",
    "a"
   ]
  },
  {
   "cell_type": "code",
   "execution_count": 125,
   "metadata": {},
   "outputs": [
    {
     "name": "stdout",
     "output_type": "stream",
     "text": [
      "26.2\n",
      "26.2\n"
     ]
    }
   ],
   "source": [
    "# to calculate the mean of the array:\n",
    "print(np.mean(a))\n",
    "print(np.sum(a)/np.size(a))"
   ]
  },
  {
   "cell_type": "code",
   "execution_count": 129,
   "metadata": {},
   "outputs": [
    {
     "data": {
      "text/plain": [
       "[23, 25, 27, 28, 28]"
      ]
     },
     "execution_count": 129,
     "metadata": {},
     "output_type": "execute_result"
    }
   ],
   "source": [
    "# sorting  \n",
    "sorted(a)"
   ]
  },
  {
   "cell_type": "code",
   "execution_count": 130,
   "metadata": {},
   "outputs": [
    {
     "data": {
      "text/plain": [
       "27.0"
      ]
     },
     "execution_count": 130,
     "metadata": {},
     "output_type": "execute_result"
    }
   ],
   "source": [
    "#median is calculated after sorting :\n",
    "np.median(a)"
   ]
  },
  {
   "cell_type": "code",
   "execution_count": 133,
   "metadata": {},
   "outputs": [
    {
     "name": "stdout",
     "output_type": "stream",
     "text": [
      "25.0\n",
      "27.0\n",
      "28.0\n"
     ]
    }
   ],
   "source": [
    "# Quantile:\n",
    "\n",
    "print(np.quantile(a,0.25)) #Q1(median of first half)\n",
    "print(np.quantile(a,0.5))  #Q2(median of second half)\n",
    "print(np.quantile(a,0.75)) #Q3(median of last part)\n"
   ]
  },
  {
   "cell_type": "code",
   "execution_count": 135,
   "metadata": {},
   "outputs": [],
   "source": [
    "# logarithms and exponential operators:"
   ]
  },
  {
   "cell_type": "code",
   "execution_count": 143,
   "metadata": {},
   "outputs": [
    {
     "name": "stdout",
     "output_type": "stream",
     "text": [
      "0.6931471805599453\n",
      "1.0\n"
     ]
    }
   ],
   "source": [
    "print(np.log(2))  # log with base e\n",
    "print(np.log(np.exp(1)))"
   ]
  },
  {
   "cell_type": "code",
   "execution_count": 147,
   "metadata": {},
   "outputs": [
    {
     "name": "stdout",
     "output_type": "stream",
     "text": [
      "1.0\n",
      "0.6989700043360189\n",
      "2.807354922057604\n"
     ]
    }
   ],
   "source": [
    "print(np.log2(2))\n",
    "print(np.log10(5))\n",
    "print(np.log2(7))"
   ]
  },
  {
   "cell_type": "code",
   "execution_count": 145,
   "metadata": {},
   "outputs": [
    {
     "name": "stderr",
     "output_type": "stream",
     "text": [
      "D:\\anaconda\\lib\\site-packages\\ipykernel_launcher.py:1: RuntimeWarning: divide by zero encountered in log\n",
      "  \"\"\"Entry point for launching an IPython kernel.\n"
     ]
    },
    {
     "data": {
      "text/plain": [
       "-inf"
      ]
     },
     "execution_count": 145,
     "metadata": {},
     "output_type": "execute_result"
    }
   ],
   "source": [
    "np.log(0)\n",
    "\n"
   ]
  },
  {
   "cell_type": "code",
   "execution_count": null,
   "metadata": {},
   "outputs": [],
   "source": []
  }
 ],
 "metadata": {
  "kernelspec": {
   "display_name": "Python 3",
   "language": "python",
   "name": "python3"
  },
  "language_info": {
   "codemirror_mode": {
    "name": "ipython",
    "version": 3
   },
   "file_extension": ".py",
   "mimetype": "text/x-python",
   "name": "python",
   "nbconvert_exporter": "python",
   "pygments_lexer": "ipython3",
   "version": "3.7.4"
  }
 },
 "nbformat": 4,
 "nbformat_minor": 2
}

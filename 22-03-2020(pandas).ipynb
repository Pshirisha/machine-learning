{
 "cells": [
  {
   "cell_type": "code",
   "execution_count": 1,
   "metadata": {
    "collapsed": true
   },
   "outputs": [
    {
     "name": "stderr",
     "output_type": "stream",
     "text": [
      "  % Total    % Received % Xferd  Average Speed   Time    Time     Time  Current\n",
      "                                 Dload  Upload   Total   Spent    Left  Speed\n",
      "\n",
      "  0     0    0     0    0     0      0      0 --:--:-- --:--:-- --:--:--     0\n",
      "  0     0    0     0    0     0      0      0 --:--:--  0:00:01 --:--:--     0\n",
      "  0     0    0     0    0     0      0      0 --:--:--  0:00:02 --:--:--     0\n",
      "  0     0    0     0    0     0      0      0 --:--:--  0:00:03 --:--:--     0\n",
      "  0     0    0     0    0     0      0      0 --:--:--  0:00:04 --:--:--     0\n",
      "100 34014  100 34014    0     0   6533      0  0:00:05  0:00:05 --:--:--  6533\n"
     ]
    }
   ],
   "source": [
    "!curl -o numpy100.ipynb https://raw.githubusercontent.com/sumathi16/numpy-100/master/100_Numpy_exercises_no_solution.ipynb\n"
   ]
  },
  {
   "cell_type": "code",
   "execution_count": 2,
   "metadata": {},
   "outputs": [],
   "source": [
    "import pandas as pd"
   ]
  },
  {
   "cell_type": "code",
   "execution_count": 3,
   "metadata": {
    "collapsed": true
   },
   "outputs": [
    {
     "name": "stderr",
     "output_type": "stream",
     "text": [
      "  % Total    % Received % Xferd  Average Speed   Time    Time     Time  Current\n",
      "                                 Dload  Upload   Total   Spent    Left  Speed\n",
      "\n",
      "  0     0    0     0    0     0      0      0 --:--:-- --:--:-- --:--:--     0\n",
      "100   114  100   114    0     0    121      0 --:--:-- --:--:-- --:--:--   121\n",
      "100   114  100   114    0     0    121      0 --:--:-- --:--:-- --:--:--   121\n"
     ]
    }
   ],
   "source": [
    "!curl -o sample.csv https://raw.githubusercontent.com/sumathi16/Machine-Learning-March/master/sample.csv"
   ]
  },
  {
   "cell_type": "code",
   "execution_count": 10,
   "metadata": {
    "collapsed": true
   },
   "outputs": [
    {
     "data": {
      "text/html": [
       "<div>\n",
       "<style scoped>\n",
       "    .dataframe tbody tr th:only-of-type {\n",
       "        vertical-align: middle;\n",
       "    }\n",
       "\n",
       "    .dataframe tbody tr th {\n",
       "        vertical-align: top;\n",
       "    }\n",
       "\n",
       "    .dataframe thead th {\n",
       "        text-align: right;\n",
       "    }\n",
       "</style>\n",
       "<table border=\"1\" class=\"dataframe\">\n",
       "  <thead>\n",
       "    <tr style=\"text-align: right;\">\n",
       "      <th></th>\n",
       "      <th>name</th>\n",
       "      <th>salary</th>\n",
       "      <th>year</th>\n",
       "    </tr>\n",
       "  </thead>\n",
       "  <tbody>\n",
       "    <tr>\n",
       "      <td>0</td>\n",
       "      <td>Raj Acharya</td>\n",
       "      <td>45000</td>\n",
       "      <td>2015</td>\n",
       "    </tr>\n",
       "    <tr>\n",
       "      <td>1</td>\n",
       "      <td>SaiTeja Ram</td>\n",
       "      <td>78000</td>\n",
       "      <td>2012</td>\n",
       "    </tr>\n",
       "    <tr>\n",
       "      <td>2</td>\n",
       "      <td>Hemendra Arya</td>\n",
       "      <td>32000</td>\n",
       "      <td>2018</td>\n",
       "    </tr>\n",
       "    <tr>\n",
       "      <td>3</td>\n",
       "      <td>Revanth Sundarm</td>\n",
       "      <td>15000</td>\n",
       "      <td>2019</td>\n",
       "    </tr>\n",
       "  </tbody>\n",
       "</table>\n",
       "</div>"
      ],
      "text/plain": [
       "              name  salary  year\n",
       "0      Raj Acharya   45000  2015\n",
       "1      SaiTeja Ram   78000  2012\n",
       "2    Hemendra Arya   32000  2018\n",
       "3  Revanth Sundarm   15000  2019"
      ]
     },
     "execution_count": 10,
     "metadata": {},
     "output_type": "execute_result"
    }
   ],
   "source": [
    "# how to read data(csv(comma separated values)) using pandas\n",
    "\n",
    "data = pd.read_csv(\"sample.csv\")\n",
    "data"
   ]
  },
  {
   "cell_type": "code",
   "execution_count": 9,
   "metadata": {
    "collapsed": true
   },
   "outputs": [
    {
     "data": {
      "text/html": [
       "<div>\n",
       "<style scoped>\n",
       "    .dataframe tbody tr th:only-of-type {\n",
       "        vertical-align: middle;\n",
       "    }\n",
       "\n",
       "    .dataframe tbody tr th {\n",
       "        vertical-align: top;\n",
       "    }\n",
       "\n",
       "    .dataframe thead th {\n",
       "        text-align: right;\n",
       "    }\n",
       "</style>\n",
       "<table border=\"1\" class=\"dataframe\">\n",
       "  <thead>\n",
       "    <tr style=\"text-align: right;\">\n",
       "      <th></th>\n",
       "      <th>0</th>\n",
       "      <th>1</th>\n",
       "      <th>2</th>\n",
       "    </tr>\n",
       "  </thead>\n",
       "  <tbody>\n",
       "    <tr>\n",
       "      <td>0</td>\n",
       "      <td>name</td>\n",
       "      <td>salary</td>\n",
       "      <td>year</td>\n",
       "    </tr>\n",
       "    <tr>\n",
       "      <td>1</td>\n",
       "      <td>Raj Acharya</td>\n",
       "      <td>45000</td>\n",
       "      <td>2015</td>\n",
       "    </tr>\n",
       "    <tr>\n",
       "      <td>2</td>\n",
       "      <td>SaiTeja Ram</td>\n",
       "      <td>78000</td>\n",
       "      <td>2012</td>\n",
       "    </tr>\n",
       "    <tr>\n",
       "      <td>3</td>\n",
       "      <td>Hemendra Arya</td>\n",
       "      <td>32000</td>\n",
       "      <td>2018</td>\n",
       "    </tr>\n",
       "    <tr>\n",
       "      <td>4</td>\n",
       "      <td>Revanth Sundarm</td>\n",
       "      <td>15000</td>\n",
       "      <td>2019</td>\n",
       "    </tr>\n",
       "  </tbody>\n",
       "</table>\n",
       "</div>"
      ],
      "text/plain": [
       "                 0       1     2\n",
       "0             name  salary  year\n",
       "1      Raj Acharya   45000  2015\n",
       "2      SaiTeja Ram   78000  2012\n",
       "3    Hemendra Arya   32000  2018\n",
       "4  Revanth Sundarm   15000  2019"
      ]
     },
     "execution_count": 9,
     "metadata": {},
     "output_type": "execute_result"
    }
   ],
   "source": [
    "data = pd.read_csv(\"sample.csv\",header=None)\n",
    "data"
   ]
  },
  {
   "cell_type": "code",
   "execution_count": 22,
   "metadata": {},
   "outputs": [
    {
     "data": {
      "text/html": [
       "<div>\n",
       "<style scoped>\n",
       "    .dataframe tbody tr th:only-of-type {\n",
       "        vertical-align: middle;\n",
       "    }\n",
       "\n",
       "    .dataframe tbody tr th {\n",
       "        vertical-align: top;\n",
       "    }\n",
       "\n",
       "    .dataframe thead th {\n",
       "        text-align: right;\n",
       "    }\n",
       "</style>\n",
       "<table border=\"1\" class=\"dataframe\">\n",
       "  <thead>\n",
       "    <tr style=\"text-align: right;\">\n",
       "      <th></th>\n",
       "      <th>name</th>\n",
       "      <th>salary</th>\n",
       "      <th>year</th>\n",
       "    </tr>\n",
       "  </thead>\n",
       "  <tbody>\n",
       "    <tr>\n",
       "      <td>0</td>\n",
       "      <td>Raj Acharya</td>\n",
       "      <td>45000</td>\n",
       "      <td>2015</td>\n",
       "    </tr>\n",
       "    <tr>\n",
       "      <td>1</td>\n",
       "      <td>SaiTeja Ram</td>\n",
       "      <td>78000</td>\n",
       "      <td>2012</td>\n",
       "    </tr>\n",
       "    <tr>\n",
       "      <td>2</td>\n",
       "      <td>Hemendra Arya</td>\n",
       "      <td>32000</td>\n",
       "      <td>2018</td>\n",
       "    </tr>\n",
       "    <tr>\n",
       "      <td>3</td>\n",
       "      <td>Revanth Sundarm</td>\n",
       "      <td>15000</td>\n",
       "      <td>2019</td>\n",
       "    </tr>\n",
       "  </tbody>\n",
       "</table>\n",
       "</div>"
      ],
      "text/plain": [
       "              name  salary  year\n",
       "0      Raj Acharya   45000  2015\n",
       "1      SaiTeja Ram   78000  2012\n",
       "2    Hemendra Arya   32000  2018\n",
       "3  Revanth Sundarm   15000  2019"
      ]
     },
     "execution_count": 22,
     "metadata": {},
     "output_type": "execute_result"
    }
   ],
   "source": [
    "data = pd.read_csv(\"sample.tsv\",sep=\"\\t\")\n",
    "data"
   ]
  },
  {
   "cell_type": "code",
   "execution_count": 12,
   "metadata": {},
   "outputs": [
    {
     "data": {
      "text/html": [
       "<div>\n",
       "<style scoped>\n",
       "    .dataframe tbody tr th:only-of-type {\n",
       "        vertical-align: middle;\n",
       "    }\n",
       "\n",
       "    .dataframe tbody tr th {\n",
       "        vertical-align: top;\n",
       "    }\n",
       "\n",
       "    .dataframe thead th {\n",
       "        text-align: right;\n",
       "    }\n",
       "</style>\n",
       "<table border=\"1\" class=\"dataframe\">\n",
       "  <thead>\n",
       "    <tr style=\"text-align: right;\">\n",
       "      <th></th>\n",
       "      <th>name</th>\n",
       "    </tr>\n",
       "  </thead>\n",
       "  <tbody>\n",
       "    <tr>\n",
       "      <td>0</td>\n",
       "      <td>Raj Acharya</td>\n",
       "    </tr>\n",
       "    <tr>\n",
       "      <td>1</td>\n",
       "      <td>SaiTeja Ram</td>\n",
       "    </tr>\n",
       "    <tr>\n",
       "      <td>2</td>\n",
       "      <td>Hemendra Arya</td>\n",
       "    </tr>\n",
       "    <tr>\n",
       "      <td>3</td>\n",
       "      <td>Revanth Sundarm</td>\n",
       "    </tr>\n",
       "  </tbody>\n",
       "</table>\n",
       "</div>"
      ],
      "text/plain": [
       "              name\n",
       "0      Raj Acharya\n",
       "1      SaiTeja Ram\n",
       "2    Hemendra Arya\n",
       "3  Revanth Sundarm"
      ]
     },
     "execution_count": 12,
     "metadata": {},
     "output_type": "execute_result"
    }
   ],
   "source": [
    "# to read the specific rows:\n",
    "data = pd.read_csv(\"sample.tsv\",sep=\"\\t\",usecols=[\"name\"])\n",
    "data"
   ]
  },
  {
   "cell_type": "code",
   "execution_count": 13,
   "metadata": {},
   "outputs": [
    {
     "data": {
      "text/html": [
       "<div>\n",
       "<style scoped>\n",
       "    .dataframe tbody tr th:only-of-type {\n",
       "        vertical-align: middle;\n",
       "    }\n",
       "\n",
       "    .dataframe tbody tr th {\n",
       "        vertical-align: top;\n",
       "    }\n",
       "\n",
       "    .dataframe thead th {\n",
       "        text-align: right;\n",
       "    }\n",
       "</style>\n",
       "<table border=\"1\" class=\"dataframe\">\n",
       "  <thead>\n",
       "    <tr style=\"text-align: right;\">\n",
       "      <th></th>\n",
       "      <th>name</th>\n",
       "      <th>year</th>\n",
       "    </tr>\n",
       "  </thead>\n",
       "  <tbody>\n",
       "    <tr>\n",
       "      <td>0</td>\n",
       "      <td>Raj Acharya</td>\n",
       "      <td>2015</td>\n",
       "    </tr>\n",
       "    <tr>\n",
       "      <td>1</td>\n",
       "      <td>SaiTeja Ram</td>\n",
       "      <td>2012</td>\n",
       "    </tr>\n",
       "    <tr>\n",
       "      <td>2</td>\n",
       "      <td>Hemendra Arya</td>\n",
       "      <td>2018</td>\n",
       "    </tr>\n",
       "    <tr>\n",
       "      <td>3</td>\n",
       "      <td>Revanth Sundarm</td>\n",
       "      <td>2019</td>\n",
       "    </tr>\n",
       "  </tbody>\n",
       "</table>\n",
       "</div>"
      ],
      "text/plain": [
       "              name  year\n",
       "0      Raj Acharya  2015\n",
       "1      SaiTeja Ram  2012\n",
       "2    Hemendra Arya  2018\n",
       "3  Revanth Sundarm  2019"
      ]
     },
     "execution_count": 13,
     "metadata": {},
     "output_type": "execute_result"
    }
   ],
   "source": [
    "data = pd.read_csv(\"sample.tsv\",sep=\"\\t\",usecols=[\"name\",\n",
    "                                                  \"year\"])\n",
    "data"
   ]
  },
  {
   "cell_type": "code",
   "execution_count": 19,
   "metadata": {},
   "outputs": [
    {
     "data": {
      "text/html": [
       "<div>\n",
       "<style scoped>\n",
       "    .dataframe tbody tr th:only-of-type {\n",
       "        vertical-align: middle;\n",
       "    }\n",
       "\n",
       "    .dataframe tbody tr th {\n",
       "        vertical-align: top;\n",
       "    }\n",
       "\n",
       "    .dataframe thead th {\n",
       "        text-align: right;\n",
       "    }\n",
       "</style>\n",
       "<table border=\"1\" class=\"dataframe\">\n",
       "  <thead>\n",
       "    <tr style=\"text-align: right;\">\n",
       "      <th></th>\n",
       "      <th>name</th>\n",
       "      <th>year</th>\n",
       "    </tr>\n",
       "    <tr>\n",
       "      <th>salary</th>\n",
       "      <th></th>\n",
       "      <th></th>\n",
       "    </tr>\n",
       "  </thead>\n",
       "  <tbody>\n",
       "    <tr>\n",
       "      <td>45000</td>\n",
       "      <td>Raj Acharya</td>\n",
       "      <td>2015</td>\n",
       "    </tr>\n",
       "    <tr>\n",
       "      <td>78000</td>\n",
       "      <td>SaiTeja Ram</td>\n",
       "      <td>2012</td>\n",
       "    </tr>\n",
       "    <tr>\n",
       "      <td>32000</td>\n",
       "      <td>Hemendra Arya</td>\n",
       "      <td>2018</td>\n",
       "    </tr>\n",
       "    <tr>\n",
       "      <td>15000</td>\n",
       "      <td>Revanth Sundarm</td>\n",
       "      <td>2019</td>\n",
       "    </tr>\n",
       "  </tbody>\n",
       "</table>\n",
       "</div>"
      ],
      "text/plain": [
       "                   name  year\n",
       "salary                       \n",
       "45000       Raj Acharya  2015\n",
       "78000       SaiTeja Ram  2012\n",
       "32000     Hemendra Arya  2018\n",
       "15000   Revanth Sundarm  2019"
      ]
     },
     "execution_count": 19,
     "metadata": {},
     "output_type": "execute_result"
    }
   ],
   "source": [
    "data = pd.read_csv(\"sample.tsv\",sep=\"\\t\",index_col=[1])\n",
    "data"
   ]
  },
  {
   "cell_type": "code",
   "execution_count": 20,
   "metadata": {},
   "outputs": [
    {
     "data": {
      "text/plain": [
       "salary\n",
       "45000        Raj Acharya\n",
       "78000        SaiTeja Ram\n",
       "32000      Hemendra Arya\n",
       "15000    Revanth Sundarm\n",
       "Name: name, dtype: object"
      ]
     },
     "execution_count": 20,
     "metadata": {},
     "output_type": "execute_result"
    }
   ],
   "source": [
    "data.name"
   ]
  },
  {
   "cell_type": "code",
   "execution_count": 23,
   "metadata": {},
   "outputs": [
    {
     "data": {
      "text/plain": [
       "0        Raj Acharya\n",
       "1        SaiTeja Ram\n",
       "2      Hemendra Arya\n",
       "3    Revanth Sundarm\n",
       "Name: name, dtype: object"
      ]
     },
     "execution_count": 23,
     "metadata": {},
     "output_type": "execute_result"
    }
   ],
   "source": [
    "# to get specific column:\n",
    "#this is series:\n",
    "\n",
    "data['name']\n"
   ]
  },
  {
   "cell_type": "code",
   "execution_count": 25,
   "metadata": {},
   "outputs": [
    {
     "data": {
      "text/html": [
       "<div>\n",
       "<style scoped>\n",
       "    .dataframe tbody tr th:only-of-type {\n",
       "        vertical-align: middle;\n",
       "    }\n",
       "\n",
       "    .dataframe tbody tr th {\n",
       "        vertical-align: top;\n",
       "    }\n",
       "\n",
       "    .dataframe thead th {\n",
       "        text-align: right;\n",
       "    }\n",
       "</style>\n",
       "<table border=\"1\" class=\"dataframe\">\n",
       "  <thead>\n",
       "    <tr style=\"text-align: right;\">\n",
       "      <th></th>\n",
       "      <th>name</th>\n",
       "    </tr>\n",
       "  </thead>\n",
       "  <tbody>\n",
       "    <tr>\n",
       "      <td>0</td>\n",
       "      <td>Raj Acharya</td>\n",
       "    </tr>\n",
       "    <tr>\n",
       "      <td>1</td>\n",
       "      <td>SaiTeja Ram</td>\n",
       "    </tr>\n",
       "    <tr>\n",
       "      <td>2</td>\n",
       "      <td>Hemendra Arya</td>\n",
       "    </tr>\n",
       "    <tr>\n",
       "      <td>3</td>\n",
       "      <td>Revanth Sundarm</td>\n",
       "    </tr>\n",
       "  </tbody>\n",
       "</table>\n",
       "</div>"
      ],
      "text/plain": [
       "              name\n",
       "0      Raj Acharya\n",
       "1      SaiTeja Ram\n",
       "2    Hemendra Arya\n",
       "3  Revanth Sundarm"
      ]
     },
     "execution_count": 25,
     "metadata": {},
     "output_type": "execute_result"
    }
   ],
   "source": [
    "# changing the series to dataframe:\n",
    "\n",
    "data[['name']]"
   ]
  },
  {
   "cell_type": "code",
   "execution_count": 26,
   "metadata": {},
   "outputs": [
    {
     "data": {
      "text/html": [
       "<div>\n",
       "<style scoped>\n",
       "    .dataframe tbody tr th:only-of-type {\n",
       "        vertical-align: middle;\n",
       "    }\n",
       "\n",
       "    .dataframe tbody tr th {\n",
       "        vertical-align: top;\n",
       "    }\n",
       "\n",
       "    .dataframe thead th {\n",
       "        text-align: right;\n",
       "    }\n",
       "</style>\n",
       "<table border=\"1\" class=\"dataframe\">\n",
       "  <thead>\n",
       "    <tr style=\"text-align: right;\">\n",
       "      <th></th>\n",
       "      <th>name</th>\n",
       "      <th>year</th>\n",
       "    </tr>\n",
       "  </thead>\n",
       "  <tbody>\n",
       "    <tr>\n",
       "      <td>0</td>\n",
       "      <td>Raj Acharya</td>\n",
       "      <td>2015</td>\n",
       "    </tr>\n",
       "    <tr>\n",
       "      <td>1</td>\n",
       "      <td>SaiTeja Ram</td>\n",
       "      <td>2012</td>\n",
       "    </tr>\n",
       "    <tr>\n",
       "      <td>2</td>\n",
       "      <td>Hemendra Arya</td>\n",
       "      <td>2018</td>\n",
       "    </tr>\n",
       "    <tr>\n",
       "      <td>3</td>\n",
       "      <td>Revanth Sundarm</td>\n",
       "      <td>2019</td>\n",
       "    </tr>\n",
       "  </tbody>\n",
       "</table>\n",
       "</div>"
      ],
      "text/plain": [
       "              name  year\n",
       "0      Raj Acharya  2015\n",
       "1      SaiTeja Ram  2012\n",
       "2    Hemendra Arya  2018\n",
       "3  Revanth Sundarm  2019"
      ]
     },
     "execution_count": 26,
     "metadata": {},
     "output_type": "execute_result"
    }
   ],
   "source": [
    "data[['name','year']]"
   ]
  },
  {
   "cell_type": "code",
   "execution_count": 27,
   "metadata": {},
   "outputs": [
    {
     "data": {
      "text/plain": [
       "(4, 3)"
      ]
     },
     "execution_count": 27,
     "metadata": {},
     "output_type": "execute_result"
    }
   ],
   "source": [
    "data.shape"
   ]
  },
  {
   "cell_type": "code",
   "execution_count": 29,
   "metadata": {},
   "outputs": [
    {
     "data": {
      "text/plain": [
       "4"
      ]
     },
     "execution_count": 29,
     "metadata": {},
     "output_type": "execute_result"
    }
   ],
   "source": [
    "data.shape[0]"
   ]
  },
  {
   "cell_type": "code",
   "execution_count": 31,
   "metadata": {},
   "outputs": [
    {
     "data": {
      "text/html": [
       "<div>\n",
       "<style scoped>\n",
       "    .dataframe tbody tr th:only-of-type {\n",
       "        vertical-align: middle;\n",
       "    }\n",
       "\n",
       "    .dataframe tbody tr th {\n",
       "        vertical-align: top;\n",
       "    }\n",
       "\n",
       "    .dataframe thead th {\n",
       "        text-align: right;\n",
       "    }\n",
       "</style>\n",
       "<table border=\"1\" class=\"dataframe\">\n",
       "  <thead>\n",
       "    <tr style=\"text-align: right;\">\n",
       "      <th></th>\n",
       "      <th>name</th>\n",
       "      <th>salary</th>\n",
       "      <th>year</th>\n",
       "    </tr>\n",
       "  </thead>\n",
       "  <tbody>\n",
       "    <tr>\n",
       "      <td>2</td>\n",
       "      <td>Hemendra Arya</td>\n",
       "      <td>32000</td>\n",
       "      <td>2018</td>\n",
       "    </tr>\n",
       "    <tr>\n",
       "      <td>3</td>\n",
       "      <td>Revanth Sundarm</td>\n",
       "      <td>15000</td>\n",
       "      <td>2019</td>\n",
       "    </tr>\n",
       "  </tbody>\n",
       "</table>\n",
       "</div>"
      ],
      "text/plain": [
       "              name  salary  year\n",
       "2    Hemendra Arya   32000  2018\n",
       "3  Revanth Sundarm   15000  2019"
      ]
     },
     "execution_count": 31,
     "metadata": {},
     "output_type": "execute_result"
    }
   ],
   "source": [
    "# to dispaly the specified number of head and tail:\n",
    "\n",
    "data.head(2)\n",
    "data.tail(2)"
   ]
  },
  {
   "cell_type": "code",
   "execution_count": 33,
   "metadata": {
    "collapsed": true
   },
   "outputs": [
    {
     "data": {
      "text/html": [
       "<div>\n",
       "<style scoped>\n",
       "    .dataframe tbody tr th:only-of-type {\n",
       "        vertical-align: middle;\n",
       "    }\n",
       "\n",
       "    .dataframe tbody tr th {\n",
       "        vertical-align: top;\n",
       "    }\n",
       "\n",
       "    .dataframe thead th {\n",
       "        text-align: right;\n",
       "    }\n",
       "</style>\n",
       "<table border=\"1\" class=\"dataframe\">\n",
       "  <thead>\n",
       "    <tr style=\"text-align: right;\">\n",
       "      <th></th>\n",
       "      <th>policyID</th>\n",
       "      <th>statecode</th>\n",
       "      <th>county</th>\n",
       "      <th>eq_site_limit</th>\n",
       "      <th>hu_site_limit</th>\n",
       "      <th>fl_site_limit</th>\n",
       "      <th>fr_site_limit</th>\n",
       "      <th>tiv_2011</th>\n",
       "      <th>tiv_2012</th>\n",
       "      <th>eq_site_deductible</th>\n",
       "      <th>hu_site_deductible</th>\n",
       "      <th>fl_site_deductible</th>\n",
       "      <th>fr_site_deductible</th>\n",
       "      <th>point_latitude</th>\n",
       "      <th>point_longitude</th>\n",
       "      <th>line</th>\n",
       "      <th>construction</th>\n",
       "      <th>point_granularity</th>\n",
       "    </tr>\n",
       "  </thead>\n",
       "  <tbody>\n",
       "    <tr>\n",
       "      <td>0</td>\n",
       "      <td>119736</td>\n",
       "      <td>FL</td>\n",
       "      <td>CLAY COUNTY</td>\n",
       "      <td>498960.0</td>\n",
       "      <td>498960.00</td>\n",
       "      <td>498960.0</td>\n",
       "      <td>498960.0</td>\n",
       "      <td>498960.00</td>\n",
       "      <td>792148.90</td>\n",
       "      <td>0.0</td>\n",
       "      <td>9979.2</td>\n",
       "      <td>0.0</td>\n",
       "      <td>0</td>\n",
       "      <td>30.102261</td>\n",
       "      <td>-81.711777</td>\n",
       "      <td>Residential</td>\n",
       "      <td>Masonry</td>\n",
       "      <td>1</td>\n",
       "    </tr>\n",
       "    <tr>\n",
       "      <td>1</td>\n",
       "      <td>448094</td>\n",
       "      <td>FL</td>\n",
       "      <td>CLAY COUNTY</td>\n",
       "      <td>1322376.3</td>\n",
       "      <td>1322376.30</td>\n",
       "      <td>1322376.3</td>\n",
       "      <td>1322376.3</td>\n",
       "      <td>1322376.30</td>\n",
       "      <td>1438163.57</td>\n",
       "      <td>0.0</td>\n",
       "      <td>0.0</td>\n",
       "      <td>0.0</td>\n",
       "      <td>0</td>\n",
       "      <td>30.063936</td>\n",
       "      <td>-81.707664</td>\n",
       "      <td>Residential</td>\n",
       "      <td>Masonry</td>\n",
       "      <td>3</td>\n",
       "    </tr>\n",
       "    <tr>\n",
       "      <td>2</td>\n",
       "      <td>206893</td>\n",
       "      <td>FL</td>\n",
       "      <td>CLAY COUNTY</td>\n",
       "      <td>190724.4</td>\n",
       "      <td>190724.40</td>\n",
       "      <td>190724.4</td>\n",
       "      <td>190724.4</td>\n",
       "      <td>190724.40</td>\n",
       "      <td>192476.78</td>\n",
       "      <td>0.0</td>\n",
       "      <td>0.0</td>\n",
       "      <td>0.0</td>\n",
       "      <td>0</td>\n",
       "      <td>30.089579</td>\n",
       "      <td>-81.700455</td>\n",
       "      <td>Residential</td>\n",
       "      <td>Wood</td>\n",
       "      <td>1</td>\n",
       "    </tr>\n",
       "    <tr>\n",
       "      <td>3</td>\n",
       "      <td>333743</td>\n",
       "      <td>FL</td>\n",
       "      <td>CLAY COUNTY</td>\n",
       "      <td>0.0</td>\n",
       "      <td>79520.76</td>\n",
       "      <td>0.0</td>\n",
       "      <td>0.0</td>\n",
       "      <td>79520.76</td>\n",
       "      <td>86854.48</td>\n",
       "      <td>0.0</td>\n",
       "      <td>0.0</td>\n",
       "      <td>0.0</td>\n",
       "      <td>0</td>\n",
       "      <td>30.063236</td>\n",
       "      <td>-81.707703</td>\n",
       "      <td>Residential</td>\n",
       "      <td>Wood</td>\n",
       "      <td>3</td>\n",
       "    </tr>\n",
       "    <tr>\n",
       "      <td>4</td>\n",
       "      <td>172534</td>\n",
       "      <td>FL</td>\n",
       "      <td>CLAY COUNTY</td>\n",
       "      <td>0.0</td>\n",
       "      <td>254281.50</td>\n",
       "      <td>0.0</td>\n",
       "      <td>254281.5</td>\n",
       "      <td>254281.50</td>\n",
       "      <td>246144.49</td>\n",
       "      <td>0.0</td>\n",
       "      <td>0.0</td>\n",
       "      <td>0.0</td>\n",
       "      <td>0</td>\n",
       "      <td>30.060614</td>\n",
       "      <td>-81.702675</td>\n",
       "      <td>Residential</td>\n",
       "      <td>Wood</td>\n",
       "      <td>1</td>\n",
       "    </tr>\n",
       "    <tr>\n",
       "      <td>...</td>\n",
       "      <td>...</td>\n",
       "      <td>...</td>\n",
       "      <td>...</td>\n",
       "      <td>...</td>\n",
       "      <td>...</td>\n",
       "      <td>...</td>\n",
       "      <td>...</td>\n",
       "      <td>...</td>\n",
       "      <td>...</td>\n",
       "      <td>...</td>\n",
       "      <td>...</td>\n",
       "      <td>...</td>\n",
       "      <td>...</td>\n",
       "      <td>...</td>\n",
       "      <td>...</td>\n",
       "      <td>...</td>\n",
       "      <td>...</td>\n",
       "      <td>...</td>\n",
       "    </tr>\n",
       "    <tr>\n",
       "      <td>36629</td>\n",
       "      <td>404309</td>\n",
       "      <td>FL</td>\n",
       "      <td>PINELLAS COUNTY</td>\n",
       "      <td>0.0</td>\n",
       "      <td>88722.00</td>\n",
       "      <td>0.0</td>\n",
       "      <td>88722.0</td>\n",
       "      <td>88722.00</td>\n",
       "      <td>155065.65</td>\n",
       "      <td>0.0</td>\n",
       "      <td>0.0</td>\n",
       "      <td>0.0</td>\n",
       "      <td>0</td>\n",
       "      <td>28.122885</td>\n",
       "      <td>-82.770218</td>\n",
       "      <td>Residential</td>\n",
       "      <td>Wood</td>\n",
       "      <td>3</td>\n",
       "    </tr>\n",
       "    <tr>\n",
       "      <td>36630</td>\n",
       "      <td>465875</td>\n",
       "      <td>FL</td>\n",
       "      <td>PINELLAS COUNTY</td>\n",
       "      <td>1297057.5</td>\n",
       "      <td>1297057.50</td>\n",
       "      <td>1297057.5</td>\n",
       "      <td>1297057.5</td>\n",
       "      <td>1297057.50</td>\n",
       "      <td>1577500.79</td>\n",
       "      <td>0.0</td>\n",
       "      <td>0.0</td>\n",
       "      <td>0.0</td>\n",
       "      <td>0</td>\n",
       "      <td>28.080900</td>\n",
       "      <td>-82.758800</td>\n",
       "      <td>Residential</td>\n",
       "      <td>Masonry</td>\n",
       "      <td>1</td>\n",
       "    </tr>\n",
       "    <tr>\n",
       "      <td>36631</td>\n",
       "      <td>791209</td>\n",
       "      <td>FL</td>\n",
       "      <td>PINELLAS COUNTY</td>\n",
       "      <td>173286.9</td>\n",
       "      <td>173286.90</td>\n",
       "      <td>0.0</td>\n",
       "      <td>0.0</td>\n",
       "      <td>173286.90</td>\n",
       "      <td>205527.97</td>\n",
       "      <td>0.0</td>\n",
       "      <td>0.0</td>\n",
       "      <td>0.0</td>\n",
       "      <td>0</td>\n",
       "      <td>28.110550</td>\n",
       "      <td>-82.766360</td>\n",
       "      <td>Residential</td>\n",
       "      <td>Wood</td>\n",
       "      <td>4</td>\n",
       "    </tr>\n",
       "    <tr>\n",
       "      <td>36632</td>\n",
       "      <td>322627</td>\n",
       "      <td>FL</td>\n",
       "      <td>PINELLAS COUNTY</td>\n",
       "      <td>1499781.6</td>\n",
       "      <td>1499781.60</td>\n",
       "      <td>0.0</td>\n",
       "      <td>0.0</td>\n",
       "      <td>1499781.60</td>\n",
       "      <td>1768782.43</td>\n",
       "      <td>0.0</td>\n",
       "      <td>0.0</td>\n",
       "      <td>0.0</td>\n",
       "      <td>0</td>\n",
       "      <td>28.089415</td>\n",
       "      <td>-82.697411</td>\n",
       "      <td>Residential</td>\n",
       "      <td>Masonry</td>\n",
       "      <td>3</td>\n",
       "    </tr>\n",
       "    <tr>\n",
       "      <td>36633</td>\n",
       "      <td>398149</td>\n",
       "      <td>FL</td>\n",
       "      <td>PINELLAS COUNTY</td>\n",
       "      <td>373488.3</td>\n",
       "      <td>373488.30</td>\n",
       "      <td>0.0</td>\n",
       "      <td>0.0</td>\n",
       "      <td>373488.30</td>\n",
       "      <td>596003.67</td>\n",
       "      <td>0.0</td>\n",
       "      <td>0.0</td>\n",
       "      <td>0.0</td>\n",
       "      <td>0</td>\n",
       "      <td>28.064440</td>\n",
       "      <td>-82.774590</td>\n",
       "      <td>Residential</td>\n",
       "      <td>Masonry</td>\n",
       "      <td>1</td>\n",
       "    </tr>\n",
       "  </tbody>\n",
       "</table>\n",
       "<p>36634 rows × 18 columns</p>\n",
       "</div>"
      ],
      "text/plain": [
       "       policyID statecode           county  eq_site_limit  hu_site_limit  \\\n",
       "0        119736        FL      CLAY COUNTY       498960.0      498960.00   \n",
       "1        448094        FL      CLAY COUNTY      1322376.3     1322376.30   \n",
       "2        206893        FL      CLAY COUNTY       190724.4      190724.40   \n",
       "3        333743        FL      CLAY COUNTY            0.0       79520.76   \n",
       "4        172534        FL      CLAY COUNTY            0.0      254281.50   \n",
       "...         ...       ...              ...            ...            ...   \n",
       "36629    404309        FL  PINELLAS COUNTY            0.0       88722.00   \n",
       "36630    465875        FL  PINELLAS COUNTY      1297057.5     1297057.50   \n",
       "36631    791209        FL  PINELLAS COUNTY       173286.9      173286.90   \n",
       "36632    322627        FL  PINELLAS COUNTY      1499781.6     1499781.60   \n",
       "36633    398149        FL  PINELLAS COUNTY       373488.3      373488.30   \n",
       "\n",
       "       fl_site_limit  fr_site_limit    tiv_2011    tiv_2012  \\\n",
       "0           498960.0       498960.0   498960.00   792148.90   \n",
       "1          1322376.3      1322376.3  1322376.30  1438163.57   \n",
       "2           190724.4       190724.4   190724.40   192476.78   \n",
       "3                0.0            0.0    79520.76    86854.48   \n",
       "4                0.0       254281.5   254281.50   246144.49   \n",
       "...              ...            ...         ...         ...   \n",
       "36629            0.0        88722.0    88722.00   155065.65   \n",
       "36630      1297057.5      1297057.5  1297057.50  1577500.79   \n",
       "36631            0.0            0.0   173286.90   205527.97   \n",
       "36632            0.0            0.0  1499781.60  1768782.43   \n",
       "36633            0.0            0.0   373488.30   596003.67   \n",
       "\n",
       "       eq_site_deductible  hu_site_deductible  fl_site_deductible  \\\n",
       "0                     0.0              9979.2                 0.0   \n",
       "1                     0.0                 0.0                 0.0   \n",
       "2                     0.0                 0.0                 0.0   \n",
       "3                     0.0                 0.0                 0.0   \n",
       "4                     0.0                 0.0                 0.0   \n",
       "...                   ...                 ...                 ...   \n",
       "36629                 0.0                 0.0                 0.0   \n",
       "36630                 0.0                 0.0                 0.0   \n",
       "36631                 0.0                 0.0                 0.0   \n",
       "36632                 0.0                 0.0                 0.0   \n",
       "36633                 0.0                 0.0                 0.0   \n",
       "\n",
       "       fr_site_deductible  point_latitude  point_longitude         line  \\\n",
       "0                       0       30.102261       -81.711777  Residential   \n",
       "1                       0       30.063936       -81.707664  Residential   \n",
       "2                       0       30.089579       -81.700455  Residential   \n",
       "3                       0       30.063236       -81.707703  Residential   \n",
       "4                       0       30.060614       -81.702675  Residential   \n",
       "...                   ...             ...              ...          ...   \n",
       "36629                   0       28.122885       -82.770218  Residential   \n",
       "36630                   0       28.080900       -82.758800  Residential   \n",
       "36631                   0       28.110550       -82.766360  Residential   \n",
       "36632                   0       28.089415       -82.697411  Residential   \n",
       "36633                   0       28.064440       -82.774590  Residential   \n",
       "\n",
       "      construction  point_granularity  \n",
       "0          Masonry                  1  \n",
       "1          Masonry                  3  \n",
       "2             Wood                  1  \n",
       "3             Wood                  3  \n",
       "4             Wood                  1  \n",
       "...            ...                ...  \n",
       "36629         Wood                  3  \n",
       "36630      Masonry                  1  \n",
       "36631         Wood                  4  \n",
       "36632      Masonry                  3  \n",
       "36633      Masonry                  1  \n",
       "\n",
       "[36634 rows x 18 columns]"
      ]
     },
     "execution_count": 33,
     "metadata": {},
     "output_type": "execute_result"
    }
   ],
   "source": [
    "fdata=pd.read_csv(\"FL_insurance_sample.csv\")\n",
    "fdata"
   ]
  },
  {
   "cell_type": "code",
   "execution_count": 34,
   "metadata": {},
   "outputs": [
    {
     "data": {
      "text/plain": [
       "(36634, 18)"
      ]
     },
     "execution_count": 34,
     "metadata": {},
     "output_type": "execute_result"
    }
   ],
   "source": [
    "fdata.shape"
   ]
  },
  {
   "cell_type": "code",
   "execution_count": 35,
   "metadata": {},
   "outputs": [
    {
     "data": {
      "text/html": [
       "<div>\n",
       "<style scoped>\n",
       "    .dataframe tbody tr th:only-of-type {\n",
       "        vertical-align: middle;\n",
       "    }\n",
       "\n",
       "    .dataframe tbody tr th {\n",
       "        vertical-align: top;\n",
       "    }\n",
       "\n",
       "    .dataframe thead th {\n",
       "        text-align: right;\n",
       "    }\n",
       "</style>\n",
       "<table border=\"1\" class=\"dataframe\">\n",
       "  <thead>\n",
       "    <tr style=\"text-align: right;\">\n",
       "      <th></th>\n",
       "      <th>policyID</th>\n",
       "      <th>statecode</th>\n",
       "      <th>county</th>\n",
       "      <th>eq_site_limit</th>\n",
       "      <th>hu_site_limit</th>\n",
       "      <th>fl_site_limit</th>\n",
       "      <th>fr_site_limit</th>\n",
       "      <th>tiv_2011</th>\n",
       "      <th>tiv_2012</th>\n",
       "      <th>eq_site_deductible</th>\n",
       "      <th>hu_site_deductible</th>\n",
       "      <th>fl_site_deductible</th>\n",
       "      <th>fr_site_deductible</th>\n",
       "      <th>point_latitude</th>\n",
       "      <th>point_longitude</th>\n",
       "      <th>line</th>\n",
       "      <th>construction</th>\n",
       "      <th>point_granularity</th>\n",
       "    </tr>\n",
       "  </thead>\n",
       "  <tbody>\n",
       "    <tr>\n",
       "      <td>0</td>\n",
       "      <td>119736</td>\n",
       "      <td>FL</td>\n",
       "      <td>CLAY COUNTY</td>\n",
       "      <td>498960.0</td>\n",
       "      <td>498960.00</td>\n",
       "      <td>498960.0</td>\n",
       "      <td>498960.0</td>\n",
       "      <td>498960.00</td>\n",
       "      <td>792148.90</td>\n",
       "      <td>0.0</td>\n",
       "      <td>9979.2</td>\n",
       "      <td>0.0</td>\n",
       "      <td>0</td>\n",
       "      <td>30.102261</td>\n",
       "      <td>-81.711777</td>\n",
       "      <td>Residential</td>\n",
       "      <td>Masonry</td>\n",
       "      <td>1</td>\n",
       "    </tr>\n",
       "    <tr>\n",
       "      <td>1</td>\n",
       "      <td>448094</td>\n",
       "      <td>FL</td>\n",
       "      <td>CLAY COUNTY</td>\n",
       "      <td>1322376.3</td>\n",
       "      <td>1322376.30</td>\n",
       "      <td>1322376.3</td>\n",
       "      <td>1322376.3</td>\n",
       "      <td>1322376.30</td>\n",
       "      <td>1438163.57</td>\n",
       "      <td>0.0</td>\n",
       "      <td>0.0</td>\n",
       "      <td>0.0</td>\n",
       "      <td>0</td>\n",
       "      <td>30.063936</td>\n",
       "      <td>-81.707664</td>\n",
       "      <td>Residential</td>\n",
       "      <td>Masonry</td>\n",
       "      <td>3</td>\n",
       "    </tr>\n",
       "    <tr>\n",
       "      <td>2</td>\n",
       "      <td>206893</td>\n",
       "      <td>FL</td>\n",
       "      <td>CLAY COUNTY</td>\n",
       "      <td>190724.4</td>\n",
       "      <td>190724.40</td>\n",
       "      <td>190724.4</td>\n",
       "      <td>190724.4</td>\n",
       "      <td>190724.40</td>\n",
       "      <td>192476.78</td>\n",
       "      <td>0.0</td>\n",
       "      <td>0.0</td>\n",
       "      <td>0.0</td>\n",
       "      <td>0</td>\n",
       "      <td>30.089579</td>\n",
       "      <td>-81.700455</td>\n",
       "      <td>Residential</td>\n",
       "      <td>Wood</td>\n",
       "      <td>1</td>\n",
       "    </tr>\n",
       "    <tr>\n",
       "      <td>3</td>\n",
       "      <td>333743</td>\n",
       "      <td>FL</td>\n",
       "      <td>CLAY COUNTY</td>\n",
       "      <td>0.0</td>\n",
       "      <td>79520.76</td>\n",
       "      <td>0.0</td>\n",
       "      <td>0.0</td>\n",
       "      <td>79520.76</td>\n",
       "      <td>86854.48</td>\n",
       "      <td>0.0</td>\n",
       "      <td>0.0</td>\n",
       "      <td>0.0</td>\n",
       "      <td>0</td>\n",
       "      <td>30.063236</td>\n",
       "      <td>-81.707703</td>\n",
       "      <td>Residential</td>\n",
       "      <td>Wood</td>\n",
       "      <td>3</td>\n",
       "    </tr>\n",
       "  </tbody>\n",
       "</table>\n",
       "</div>"
      ],
      "text/plain": [
       "   policyID statecode       county  eq_site_limit  hu_site_limit  \\\n",
       "0    119736        FL  CLAY COUNTY       498960.0      498960.00   \n",
       "1    448094        FL  CLAY COUNTY      1322376.3     1322376.30   \n",
       "2    206893        FL  CLAY COUNTY       190724.4      190724.40   \n",
       "3    333743        FL  CLAY COUNTY            0.0       79520.76   \n",
       "\n",
       "   fl_site_limit  fr_site_limit    tiv_2011    tiv_2012  eq_site_deductible  \\\n",
       "0       498960.0       498960.0   498960.00   792148.90                 0.0   \n",
       "1      1322376.3      1322376.3  1322376.30  1438163.57                 0.0   \n",
       "2       190724.4       190724.4   190724.40   192476.78                 0.0   \n",
       "3            0.0            0.0    79520.76    86854.48                 0.0   \n",
       "\n",
       "   hu_site_deductible  fl_site_deductible  fr_site_deductible  point_latitude  \\\n",
       "0              9979.2                 0.0                   0       30.102261   \n",
       "1                 0.0                 0.0                   0       30.063936   \n",
       "2                 0.0                 0.0                   0       30.089579   \n",
       "3                 0.0                 0.0                   0       30.063236   \n",
       "\n",
       "   point_longitude         line construction  point_granularity  \n",
       "0       -81.711777  Residential      Masonry                  1  \n",
       "1       -81.707664  Residential      Masonry                  3  \n",
       "2       -81.700455  Residential         Wood                  1  \n",
       "3       -81.707703  Residential         Wood                  3  "
      ]
     },
     "execution_count": 35,
     "metadata": {},
     "output_type": "execute_result"
    }
   ],
   "source": [
    "fdata.head(4)"
   ]
  },
  {
   "cell_type": "code",
   "execution_count": 36,
   "metadata": {},
   "outputs": [
    {
     "data": {
      "text/html": [
       "<div>\n",
       "<style scoped>\n",
       "    .dataframe tbody tr th:only-of-type {\n",
       "        vertical-align: middle;\n",
       "    }\n",
       "\n",
       "    .dataframe tbody tr th {\n",
       "        vertical-align: top;\n",
       "    }\n",
       "\n",
       "    .dataframe thead th {\n",
       "        text-align: right;\n",
       "    }\n",
       "</style>\n",
       "<table border=\"1\" class=\"dataframe\">\n",
       "  <thead>\n",
       "    <tr style=\"text-align: right;\">\n",
       "      <th></th>\n",
       "      <th>policyID</th>\n",
       "      <th>statecode</th>\n",
       "      <th>county</th>\n",
       "      <th>eq_site_limit</th>\n",
       "      <th>hu_site_limit</th>\n",
       "      <th>fl_site_limit</th>\n",
       "      <th>fr_site_limit</th>\n",
       "      <th>tiv_2011</th>\n",
       "      <th>tiv_2012</th>\n",
       "      <th>eq_site_deductible</th>\n",
       "      <th>hu_site_deductible</th>\n",
       "      <th>fl_site_deductible</th>\n",
       "      <th>fr_site_deductible</th>\n",
       "      <th>point_latitude</th>\n",
       "      <th>point_longitude</th>\n",
       "      <th>line</th>\n",
       "      <th>construction</th>\n",
       "      <th>point_granularity</th>\n",
       "    </tr>\n",
       "  </thead>\n",
       "  <tbody>\n",
       "    <tr>\n",
       "      <td>36631</td>\n",
       "      <td>791209</td>\n",
       "      <td>FL</td>\n",
       "      <td>PINELLAS COUNTY</td>\n",
       "      <td>173286.9</td>\n",
       "      <td>173286.9</td>\n",
       "      <td>0.0</td>\n",
       "      <td>0.0</td>\n",
       "      <td>173286.9</td>\n",
       "      <td>205527.97</td>\n",
       "      <td>0.0</td>\n",
       "      <td>0.0</td>\n",
       "      <td>0.0</td>\n",
       "      <td>0</td>\n",
       "      <td>28.110550</td>\n",
       "      <td>-82.766360</td>\n",
       "      <td>Residential</td>\n",
       "      <td>Wood</td>\n",
       "      <td>4</td>\n",
       "    </tr>\n",
       "    <tr>\n",
       "      <td>36632</td>\n",
       "      <td>322627</td>\n",
       "      <td>FL</td>\n",
       "      <td>PINELLAS COUNTY</td>\n",
       "      <td>1499781.6</td>\n",
       "      <td>1499781.6</td>\n",
       "      <td>0.0</td>\n",
       "      <td>0.0</td>\n",
       "      <td>1499781.6</td>\n",
       "      <td>1768782.43</td>\n",
       "      <td>0.0</td>\n",
       "      <td>0.0</td>\n",
       "      <td>0.0</td>\n",
       "      <td>0</td>\n",
       "      <td>28.089415</td>\n",
       "      <td>-82.697411</td>\n",
       "      <td>Residential</td>\n",
       "      <td>Masonry</td>\n",
       "      <td>3</td>\n",
       "    </tr>\n",
       "    <tr>\n",
       "      <td>36633</td>\n",
       "      <td>398149</td>\n",
       "      <td>FL</td>\n",
       "      <td>PINELLAS COUNTY</td>\n",
       "      <td>373488.3</td>\n",
       "      <td>373488.3</td>\n",
       "      <td>0.0</td>\n",
       "      <td>0.0</td>\n",
       "      <td>373488.3</td>\n",
       "      <td>596003.67</td>\n",
       "      <td>0.0</td>\n",
       "      <td>0.0</td>\n",
       "      <td>0.0</td>\n",
       "      <td>0</td>\n",
       "      <td>28.064440</td>\n",
       "      <td>-82.774590</td>\n",
       "      <td>Residential</td>\n",
       "      <td>Masonry</td>\n",
       "      <td>1</td>\n",
       "    </tr>\n",
       "  </tbody>\n",
       "</table>\n",
       "</div>"
      ],
      "text/plain": [
       "       policyID statecode           county  eq_site_limit  hu_site_limit  \\\n",
       "36631    791209        FL  PINELLAS COUNTY       173286.9       173286.9   \n",
       "36632    322627        FL  PINELLAS COUNTY      1499781.6      1499781.6   \n",
       "36633    398149        FL  PINELLAS COUNTY       373488.3       373488.3   \n",
       "\n",
       "       fl_site_limit  fr_site_limit   tiv_2011    tiv_2012  \\\n",
       "36631            0.0            0.0   173286.9   205527.97   \n",
       "36632            0.0            0.0  1499781.6  1768782.43   \n",
       "36633            0.0            0.0   373488.3   596003.67   \n",
       "\n",
       "       eq_site_deductible  hu_site_deductible  fl_site_deductible  \\\n",
       "36631                 0.0                 0.0                 0.0   \n",
       "36632                 0.0                 0.0                 0.0   \n",
       "36633                 0.0                 0.0                 0.0   \n",
       "\n",
       "       fr_site_deductible  point_latitude  point_longitude         line  \\\n",
       "36631                   0       28.110550       -82.766360  Residential   \n",
       "36632                   0       28.089415       -82.697411  Residential   \n",
       "36633                   0       28.064440       -82.774590  Residential   \n",
       "\n",
       "      construction  point_granularity  \n",
       "36631         Wood                  4  \n",
       "36632      Masonry                  3  \n",
       "36633      Masonry                  1  "
      ]
     },
     "execution_count": 36,
     "metadata": {},
     "output_type": "execute_result"
    }
   ],
   "source": [
    "fdata.tail(3)"
   ]
  },
  {
   "cell_type": "code",
   "execution_count": 37,
   "metadata": {},
   "outputs": [
    {
     "data": {
      "text/html": [
       "<div>\n",
       "<style scoped>\n",
       "    .dataframe tbody tr th:only-of-type {\n",
       "        vertical-align: middle;\n",
       "    }\n",
       "\n",
       "    .dataframe tbody tr th {\n",
       "        vertical-align: top;\n",
       "    }\n",
       "\n",
       "    .dataframe thead th {\n",
       "        text-align: right;\n",
       "    }\n",
       "</style>\n",
       "<table border=\"1\" class=\"dataframe\">\n",
       "  <thead>\n",
       "    <tr style=\"text-align: right;\">\n",
       "      <th></th>\n",
       "      <th>policyID</th>\n",
       "      <th>statecode</th>\n",
       "      <th>county</th>\n",
       "      <th>eq_site_limit</th>\n",
       "      <th>hu_site_limit</th>\n",
       "      <th>fl_site_limit</th>\n",
       "      <th>fr_site_limit</th>\n",
       "      <th>tiv_2011</th>\n",
       "      <th>tiv_2012</th>\n",
       "      <th>eq_site_deductible</th>\n",
       "      <th>hu_site_deductible</th>\n",
       "      <th>fl_site_deductible</th>\n",
       "      <th>fr_site_deductible</th>\n",
       "      <th>point_latitude</th>\n",
       "      <th>point_longitude</th>\n",
       "      <th>line</th>\n",
       "      <th>construction</th>\n",
       "      <th>point_granularity</th>\n",
       "    </tr>\n",
       "  </thead>\n",
       "  <tbody>\n",
       "    <tr>\n",
       "      <td>30184</td>\n",
       "      <td>519304</td>\n",
       "      <td>FL</td>\n",
       "      <td>POLK COUNTY</td>\n",
       "      <td>0.0</td>\n",
       "      <td>1931728.02</td>\n",
       "      <td>0.0</td>\n",
       "      <td>0.0</td>\n",
       "      <td>1931728.02</td>\n",
       "      <td>2435368.15</td>\n",
       "      <td>0.0</td>\n",
       "      <td>0.0</td>\n",
       "      <td>0.0</td>\n",
       "      <td>0</td>\n",
       "      <td>27.883760</td>\n",
       "      <td>-81.842750</td>\n",
       "      <td>Commercial</td>\n",
       "      <td>Reinforced Masonry</td>\n",
       "      <td>1</td>\n",
       "    </tr>\n",
       "    <tr>\n",
       "      <td>23799</td>\n",
       "      <td>724563</td>\n",
       "      <td>FL</td>\n",
       "      <td>PALM BEACH COUNTY</td>\n",
       "      <td>0.0</td>\n",
       "      <td>116640.00</td>\n",
       "      <td>0.0</td>\n",
       "      <td>116640.0</td>\n",
       "      <td>116640.00</td>\n",
       "      <td>109000.08</td>\n",
       "      <td>0.0</td>\n",
       "      <td>5832.0</td>\n",
       "      <td>0.0</td>\n",
       "      <td>0</td>\n",
       "      <td>26.661460</td>\n",
       "      <td>-80.152200</td>\n",
       "      <td>Residential</td>\n",
       "      <td>Wood</td>\n",
       "      <td>1</td>\n",
       "    </tr>\n",
       "    <tr>\n",
       "      <td>25569</td>\n",
       "      <td>569167</td>\n",
       "      <td>FL</td>\n",
       "      <td>PALM BEACH COUNTY</td>\n",
       "      <td>0.0</td>\n",
       "      <td>13590000.00</td>\n",
       "      <td>0.0</td>\n",
       "      <td>13590000.0</td>\n",
       "      <td>13590000.00</td>\n",
       "      <td>11610000.00</td>\n",
       "      <td>0.0</td>\n",
       "      <td>0.0</td>\n",
       "      <td>0.0</td>\n",
       "      <td>0</td>\n",
       "      <td>26.627500</td>\n",
       "      <td>-80.122450</td>\n",
       "      <td>Commercial</td>\n",
       "      <td>Reinforced Concrete</td>\n",
       "      <td>1</td>\n",
       "    </tr>\n",
       "    <tr>\n",
       "      <td>13681</td>\n",
       "      <td>296758</td>\n",
       "      <td>FL</td>\n",
       "      <td>ORANGE COUNTY</td>\n",
       "      <td>156060.0</td>\n",
       "      <td>156060.00</td>\n",
       "      <td>156060.0</td>\n",
       "      <td>156060.0</td>\n",
       "      <td>156060.00</td>\n",
       "      <td>216247.66</td>\n",
       "      <td>0.0</td>\n",
       "      <td>0.0</td>\n",
       "      <td>0.0</td>\n",
       "      <td>0</td>\n",
       "      <td>28.390997</td>\n",
       "      <td>-81.468925</td>\n",
       "      <td>Residential</td>\n",
       "      <td>Wood</td>\n",
       "      <td>1</td>\n",
       "    </tr>\n",
       "  </tbody>\n",
       "</table>\n",
       "</div>"
      ],
      "text/plain": [
       "       policyID statecode             county  eq_site_limit  hu_site_limit  \\\n",
       "30184    519304        FL        POLK COUNTY            0.0     1931728.02   \n",
       "23799    724563        FL  PALM BEACH COUNTY            0.0      116640.00   \n",
       "25569    569167        FL  PALM BEACH COUNTY            0.0    13590000.00   \n",
       "13681    296758        FL      ORANGE COUNTY       156060.0      156060.00   \n",
       "\n",
       "       fl_site_limit  fr_site_limit     tiv_2011     tiv_2012  \\\n",
       "30184            0.0            0.0   1931728.02   2435368.15   \n",
       "23799            0.0       116640.0    116640.00    109000.08   \n",
       "25569            0.0     13590000.0  13590000.00  11610000.00   \n",
       "13681       156060.0       156060.0    156060.00    216247.66   \n",
       "\n",
       "       eq_site_deductible  hu_site_deductible  fl_site_deductible  \\\n",
       "30184                 0.0                 0.0                 0.0   \n",
       "23799                 0.0              5832.0                 0.0   \n",
       "25569                 0.0                 0.0                 0.0   \n",
       "13681                 0.0                 0.0                 0.0   \n",
       "\n",
       "       fr_site_deductible  point_latitude  point_longitude         line  \\\n",
       "30184                   0       27.883760       -81.842750   Commercial   \n",
       "23799                   0       26.661460       -80.152200  Residential   \n",
       "25569                   0       26.627500       -80.122450   Commercial   \n",
       "13681                   0       28.390997       -81.468925  Residential   \n",
       "\n",
       "              construction  point_granularity  \n",
       "30184   Reinforced Masonry                  1  \n",
       "23799                 Wood                  1  \n",
       "25569  Reinforced Concrete                  1  \n",
       "13681                 Wood                  1  "
      ]
     },
     "execution_count": 37,
     "metadata": {},
     "output_type": "execute_result"
    }
   ],
   "source": [
    "fdata.sample(4)"
   ]
  },
  {
   "cell_type": "code",
   "execution_count": 38,
   "metadata": {},
   "outputs": [
    {
     "data": {
      "text/html": [
       "<div>\n",
       "<style scoped>\n",
       "    .dataframe tbody tr th:only-of-type {\n",
       "        vertical-align: middle;\n",
       "    }\n",
       "\n",
       "    .dataframe tbody tr th {\n",
       "        vertical-align: top;\n",
       "    }\n",
       "\n",
       "    .dataframe thead th {\n",
       "        text-align: right;\n",
       "    }\n",
       "</style>\n",
       "<table border=\"1\" class=\"dataframe\">\n",
       "  <thead>\n",
       "    <tr style=\"text-align: right;\">\n",
       "      <th></th>\n",
       "      <th>policyID</th>\n",
       "      <th>statecode</th>\n",
       "      <th>county</th>\n",
       "      <th>eq_site_limit</th>\n",
       "      <th>hu_site_limit</th>\n",
       "      <th>fl_site_limit</th>\n",
       "      <th>fr_site_limit</th>\n",
       "      <th>tiv_2011</th>\n",
       "      <th>tiv_2012</th>\n",
       "      <th>eq_site_deductible</th>\n",
       "      <th>hu_site_deductible</th>\n",
       "      <th>fl_site_deductible</th>\n",
       "      <th>fr_site_deductible</th>\n",
       "      <th>point_latitude</th>\n",
       "      <th>point_longitude</th>\n",
       "      <th>line</th>\n",
       "      <th>construction</th>\n",
       "      <th>point_granularity</th>\n",
       "    </tr>\n",
       "  </thead>\n",
       "  <tbody>\n",
       "    <tr>\n",
       "      <td>6274</td>\n",
       "      <td>106321</td>\n",
       "      <td>FL</td>\n",
       "      <td>WASHINGTON COUNTY</td>\n",
       "      <td>0.0</td>\n",
       "      <td>1985147.72</td>\n",
       "      <td>0.0</td>\n",
       "      <td>0.0</td>\n",
       "      <td>1985147.72</td>\n",
       "      <td>1400291.44</td>\n",
       "      <td>0.0</td>\n",
       "      <td>0.0</td>\n",
       "      <td>0.0</td>\n",
       "      <td>0</td>\n",
       "      <td>30.76456</td>\n",
       "      <td>-85.55799</td>\n",
       "      <td>Commercial</td>\n",
       "      <td>Reinforced Masonry</td>\n",
       "      <td>1</td>\n",
       "    </tr>\n",
       "  </tbody>\n",
       "</table>\n",
       "</div>"
      ],
      "text/plain": [
       "      policyID statecode             county  eq_site_limit  hu_site_limit  \\\n",
       "6274    106321        FL  WASHINGTON COUNTY            0.0     1985147.72   \n",
       "\n",
       "      fl_site_limit  fr_site_limit    tiv_2011    tiv_2012  \\\n",
       "6274            0.0            0.0  1985147.72  1400291.44   \n",
       "\n",
       "      eq_site_deductible  hu_site_deductible  fl_site_deductible  \\\n",
       "6274                 0.0                 0.0                 0.0   \n",
       "\n",
       "      fr_site_deductible  point_latitude  point_longitude        line  \\\n",
       "6274                   0        30.76456        -85.55799  Commercial   \n",
       "\n",
       "            construction  point_granularity  \n",
       "6274  Reinforced Masonry                  1  "
      ]
     },
     "execution_count": 38,
     "metadata": {},
     "output_type": "execute_result"
    }
   ],
   "source": [
    "fdata.sample()"
   ]
  },
  {
   "cell_type": "code",
   "execution_count": 45,
   "metadata": {
    "collapsed": true
   },
   "outputs": [
    {
     "data": {
      "text/plain": [
       "policyID                int64\n",
       "statecode              object\n",
       "county                 object\n",
       "eq_site_limit         float64\n",
       "hu_site_limit         float64\n",
       "fl_site_limit         float64\n",
       "fr_site_limit         float64\n",
       "tiv_2011              float64\n",
       "tiv_2012              float64\n",
       "eq_site_deductible    float64\n",
       "hu_site_deductible    float64\n",
       "fl_site_deductible    float64\n",
       "fr_site_deductible      int64\n",
       "point_latitude        float64\n",
       "point_longitude       float64\n",
       "line                   object\n",
       "construction           object\n",
       "point_granularity       int64\n",
       "dtype: object"
      ]
     },
     "execution_count": 45,
     "metadata": {},
     "output_type": "execute_result"
    }
   ],
   "source": [
    "fdata.dtypes"
   ]
  },
  {
   "cell_type": "code",
   "execution_count": 46,
   "metadata": {},
   "outputs": [
    {
     "data": {
      "text/plain": [
       "pandas.core.series.Series"
      ]
     },
     "execution_count": 46,
     "metadata": {},
     "output_type": "execute_result"
    }
   ],
   "source": [
    "type(fdata.dtypes)"
   ]
  },
  {
   "cell_type": "code",
   "execution_count": 47,
   "metadata": {},
   "outputs": [
    {
     "data": {
      "text/plain": [
       "Index(['policyID', 'statecode', 'county', 'eq_site_limit', 'hu_site_limit',\n",
       "       'fl_site_limit', 'fr_site_limit', 'tiv_2011', 'tiv_2012',\n",
       "       'eq_site_deductible', 'hu_site_deductible', 'fl_site_deductible',\n",
       "       'fr_site_deductible', 'point_latitude', 'point_longitude', 'line',\n",
       "       'construction', 'point_granularity'],\n",
       "      dtype='object')"
      ]
     },
     "execution_count": 47,
     "metadata": {},
     "output_type": "execute_result"
    }
   ],
   "source": [
    "fdata.columns"
   ]
  },
  {
   "cell_type": "code",
   "execution_count": 51,
   "metadata": {},
   "outputs": [
    {
     "data": {
      "text/plain": [
       "(dtype('int64'), dtype('int64'))"
      ]
     },
     "execution_count": 51,
     "metadata": {},
     "output_type": "execute_result"
    }
   ],
   "source": [
    "fdata.dtypes[0],fdata.dtypes['policyID']"
   ]
  },
  {
   "cell_type": "code",
   "execution_count": 52,
   "metadata": {},
   "outputs": [
    {
     "name": "stdout",
     "output_type": "stream",
     "text": [
      "<class 'pandas.core.frame.DataFrame'>\n",
      "RangeIndex: 36634 entries, 0 to 36633\n",
      "Data columns (total 18 columns):\n",
      "policyID              36634 non-null int64\n",
      "statecode             36634 non-null object\n",
      "county                36634 non-null object\n",
      "eq_site_limit         36634 non-null float64\n",
      "hu_site_limit         36634 non-null float64\n",
      "fl_site_limit         36634 non-null float64\n",
      "fr_site_limit         36634 non-null float64\n",
      "tiv_2011              36634 non-null float64\n",
      "tiv_2012              36634 non-null float64\n",
      "eq_site_deductible    36634 non-null float64\n",
      "hu_site_deductible    36634 non-null float64\n",
      "fl_site_deductible    36634 non-null float64\n",
      "fr_site_deductible    36634 non-null int64\n",
      "point_latitude        36634 non-null float64\n",
      "point_longitude       36634 non-null float64\n",
      "line                  36634 non-null object\n",
      "construction          36634 non-null object\n",
      "point_granularity     36634 non-null int64\n",
      "dtypes: float64(11), int64(3), object(4)\n",
      "memory usage: 5.0+ MB\n"
     ]
    }
   ],
   "source": [
    "fdata.info()"
   ]
  },
  {
   "cell_type": "code",
   "execution_count": 56,
   "metadata": {},
   "outputs": [
    {
     "data": {
      "text/plain": [
       "float64    11\n",
       "object      4\n",
       "int64       3\n",
       "dtype: int64"
      ]
     },
     "execution_count": 56,
     "metadata": {},
     "output_type": "execute_result"
    }
   ],
   "source": [
    "fdata.dtypes.value_counts()"
   ]
  },
  {
   "cell_type": "code",
   "execution_count": 58,
   "metadata": {},
   "outputs": [
    {
     "data": {
      "text/plain": [
       "pandas.core.series.Series"
      ]
     },
     "execution_count": 58,
     "metadata": {},
     "output_type": "execute_result"
    }
   ],
   "source": [
    "type(fdata.dtypes.value_counts())"
   ]
  },
  {
   "cell_type": "code",
   "execution_count": 61,
   "metadata": {},
   "outputs": [
    {
     "data": {
      "text/plain": [
       "Index([float64, object, int64], dtype='object')"
      ]
     },
     "execution_count": 61,
     "metadata": {},
     "output_type": "execute_result"
    }
   ],
   "source": [
    "fdata.dtypes.value_counts().index"
   ]
  },
  {
   "cell_type": "code",
   "execution_count": 64,
   "metadata": {},
   "outputs": [
    {
     "data": {
      "text/plain": [
       "11"
      ]
     },
     "execution_count": 64,
     "metadata": {},
     "output_type": "execute_result"
    }
   ],
   "source": [
    "fdata.dtypes.value_counts()[0]"
   ]
  },
  {
   "cell_type": "code",
   "execution_count": null,
   "metadata": {},
   "outputs": [],
   "source": []
  },
  {
   "cell_type": "code",
   "execution_count": null,
   "metadata": {},
   "outputs": [],
   "source": []
  },
  {
   "cell_type": "code",
   "execution_count": null,
   "metadata": {},
   "outputs": [],
   "source": []
  },
  {
   "cell_type": "code",
   "execution_count": null,
   "metadata": {},
   "outputs": [],
   "source": []
  },
  {
   "cell_type": "code",
   "execution_count": null,
   "metadata": {},
   "outputs": [],
   "source": []
  },
  {
   "cell_type": "code",
   "execution_count": null,
   "metadata": {},
   "outputs": [],
   "source": []
  }
 ],
 "metadata": {
  "kernelspec": {
   "display_name": "Python 3",
   "language": "python",
   "name": "python3"
  },
  "language_info": {
   "codemirror_mode": {
    "name": "ipython",
    "version": 3
   },
   "file_extension": ".py",
   "mimetype": "text/x-python",
   "name": "python",
   "nbconvert_exporter": "python",
   "pygments_lexer": "ipython3",
   "version": "3.7.4"
  }
 },
 "nbformat": 4,
 "nbformat_minor": 2
}
